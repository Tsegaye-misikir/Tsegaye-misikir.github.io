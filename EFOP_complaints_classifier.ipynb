{
  "nbformat": 4,
  "nbformat_minor": 0,
  "metadata": {
    "colab": {
      "name": "EFOP complaints classifier.ipynb",
      "provenance": [],
      "collapsed_sections": [],
      "machine_shape": "hm",
      "include_colab_link": true
    },
    "kernelspec": {
      "name": "python3",
      "display_name": "Python 3"
    },
    "accelerator": "GPU"
  },
  "cells": [
    {
      "cell_type": "markdown",
      "metadata": {
        "id": "view-in-github",
        "colab_type": "text"
      },
      "source": [
        "<a href=\"https://colab.research.google.com/github/Tsegaye-misikir/Tsegaye-misikir.github.io/blob/master/EFOP_complaints_classifier.ipynb\" target=\"_parent\"><img src=\"https://colab.research.google.com/assets/colab-badge.svg\" alt=\"Open In Colab\"/></a>"
      ]
    },
    {
      "cell_type": "code",
      "metadata": {
        "id": "GuBMexTYOT3U",
        "colab_type": "code",
        "colab": {}
      },
      "source": [
        "import pandas as pd\n",
        "import numpy as np\n",
        "import matplotlib.pyplot as plt\n",
        "%matplotlib inline"
      ],
      "execution_count": 0,
      "outputs": []
    },
    {
      "cell_type": "code",
      "metadata": {
        "id": "_yQNEon8QNmB",
        "colab_type": "code",
        "colab": {}
      },
      "source": [
        "complains_path=\"/content/drive/My Drive/efop_dataset/complaints_users.csv\""
      ],
      "execution_count": 0,
      "outputs": []
    },
    {
      "cell_type": "code",
      "metadata": {
        "id": "K4OQyZmXQe8O",
        "colab_type": "code",
        "outputId": "2072ec0b-bbff-4acc-e95b-4541cff47f41",
        "colab": {
          "base_uri": "https://localhost:8080/",
          "height": 71
        }
      },
      "source": [
        "df = pd.read_csv(complains_path)"
      ],
      "execution_count": 0,
      "outputs": [
        {
          "output_type": "stream",
          "text": [
            "/usr/local/lib/python3.6/dist-packages/IPython/core/interactiveshell.py:2718: DtypeWarning: Columns (2) have mixed types.Specify dtype option on import or set low_memory=False.\n",
            "  interactivity=interactivity, compiler=compiler, result=result)\n"
          ],
          "name": "stderr"
        }
      ]
    },
    {
      "cell_type": "code",
      "metadata": {
        "id": "O4PHMZEtQz3z",
        "colab_type": "code",
        "outputId": "17b62039-fa45-4ff5-a923-efdc837ebc0e",
        "colab": {
          "base_uri": "https://localhost:8080/",
          "height": 204
        }
      },
      "source": [
        "df.head()"
      ],
      "execution_count": 0,
      "outputs": [
        {
          "output_type": "execute_result",
          "data": {
            "text/html": [
              "<div>\n",
              "<style scoped>\n",
              "    .dataframe tbody tr th:only-of-type {\n",
              "        vertical-align: middle;\n",
              "    }\n",
              "\n",
              "    .dataframe tbody tr th {\n",
              "        vertical-align: top;\n",
              "    }\n",
              "\n",
              "    .dataframe thead th {\n",
              "        text-align: right;\n",
              "    }\n",
              "</style>\n",
              "<table border=\"1\" class=\"dataframe\">\n",
              "  <thead>\n",
              "    <tr style=\"text-align: right;\">\n",
              "      <th></th>\n",
              "      <th>COMPLAINT_ID</th>\n",
              "      <th>COMPLAINT_TEXT</th>\n",
              "      <th>WAS_USER_DISPUTED</th>\n",
              "      <th>DATE</th>\n",
              "      <th>PRODUCT_ID</th>\n",
              "      <th>ISSUE_ID</th>\n",
              "    </tr>\n",
              "  </thead>\n",
              "  <tbody>\n",
              "    <tr>\n",
              "      <th>0</th>\n",
              "      <td>3184195</td>\n",
              "      <td>XXXX  and Transunion are reporting incorrectly...</td>\n",
              "      <td>NaN</td>\n",
              "      <td>03/19/2019</td>\n",
              "      <td>26</td>\n",
              "      <td>253</td>\n",
              "    </tr>\n",
              "    <tr>\n",
              "      <th>1</th>\n",
              "      <td>3184692</td>\n",
              "      <td>XXXX and Transunion are reporting incorrectly ...</td>\n",
              "      <td>NaN</td>\n",
              "      <td>03/19/2019</td>\n",
              "      <td>26</td>\n",
              "      <td>253</td>\n",
              "    </tr>\n",
              "    <tr>\n",
              "      <th>2</th>\n",
              "      <td>3183613</td>\n",
              "      <td>XXXX, XXXX, and Experian need to remove the co...</td>\n",
              "      <td>NaN</td>\n",
              "      <td>03/18/2019</td>\n",
              "      <td>26</td>\n",
              "      <td>165</td>\n",
              "    </tr>\n",
              "    <tr>\n",
              "      <th>3</th>\n",
              "      <td>3182430</td>\n",
              "      <td>3 company with inconsistencies, violations and...</td>\n",
              "      <td>NaN</td>\n",
              "      <td>03/17/2019</td>\n",
              "      <td>26</td>\n",
              "      <td>253</td>\n",
              "    </tr>\n",
              "    <tr>\n",
              "      <th>4</th>\n",
              "      <td>3182218</td>\n",
              "      <td>I have a personal loan from Patriot finance. T...</td>\n",
              "      <td>NaN</td>\n",
              "      <td>03/17/2019</td>\n",
              "      <td>26</td>\n",
              "      <td>165</td>\n",
              "    </tr>\n",
              "  </tbody>\n",
              "</table>\n",
              "</div>"
            ],
            "text/plain": [
              "   COMPLAINT_ID  ... ISSUE_ID\n",
              "0       3184195  ...      253\n",
              "1       3184692  ...      253\n",
              "2       3183613  ...      165\n",
              "3       3182430  ...      253\n",
              "4       3182218  ...      165\n",
              "\n",
              "[5 rows x 6 columns]"
            ]
          },
          "metadata": {
            "tags": []
          },
          "execution_count": 4
        }
      ]
    },
    {
      "cell_type": "code",
      "metadata": {
        "id": "XAEo_9pvSY0e",
        "colab_type": "code",
        "outputId": "6684a78d-d651-4a85-8172-0c5b7a29f6d9",
        "colab": {
          "base_uri": "https://localhost:8080/",
          "height": 282
        }
      },
      "source": [
        "df['ISSUE_ID'].hist(bins=353)"
      ],
      "execution_count": 0,
      "outputs": [
        {
          "output_type": "execute_result",
          "data": {
            "text/plain": [
              "<matplotlib.axes._subplots.AxesSubplot at 0x7efcc88fb550>"
            ]
          },
          "metadata": {
            "tags": []
          },
          "execution_count": 5
        },
        {
          "output_type": "display_data",
          "data": {
            "image/png": "[encoded data removed]",
            "text/plain": [
              "<Figure size 432x288 with 1 Axes>"
            ]
          },
          "metadata": {
            "tags": [],
            "needs_background": "light"
          }
        }
      ]
    },
    {
      "cell_type": "code",
      "metadata": {
        "id": "mkfCK_OySthU",
        "colab_type": "code",
        "colab": {}
      },
      "source": [
        "reps = df.pivot_table(index=['ISSUE_ID'], aggfunc='size')"
      ],
      "execution_count": 0,
      "outputs": []
    },
    {
      "cell_type": "code",
      "metadata": {
        "id": "tzLj7bezURma",
        "colab_type": "code",
        "outputId": "cbada495-5515-4639-8d91-17487243d181",
        "colab": {
          "base_uri": "https://localhost:8080/",
          "height": 85
        }
      },
      "source": [
        "print(\"Number of complaints is:\", len(df))\n",
        "print(\"Number of issues is:\", len(reps))\n",
        "print(\"Most occured issue is:\",np.argmax(reps), \"which occured:\",np.max(reps),\"times\")\n",
        "print(\"Least occured issue is:\",np.argmin(reps), \"which occured:\",np.min(reps),\"times\")"
      ],
      "execution_count": 0,
      "outputs": [
        {
          "output_type": "stream",
          "text": [
            "Number of complaints is: 383066\n",
            "Number of issues is: 353\n",
            "Most occured issue is: 253 which occured: 17094 times\n",
            "Least occured issue is: 175 which occured: 1 times\n"
          ],
          "name": "stdout"
        }
      ]
    },
    {
      "cell_type": "code",
      "metadata": {
        "id": "2Vb_bH5MWOuG",
        "colab_type": "code",
        "outputId": "c9c928db-cd5a-4e15-c71d-319ef06d7f33",
        "colab": {
          "base_uri": "https://localhost:8080/",
          "height": 34
        }
      },
      "source": [
        "print(\"average occurence for an issue is:\",np.average(reps),\"times\")"
      ],
      "execution_count": 0,
      "outputs": [
        {
          "output_type": "stream",
          "text": [
            "average occurence for an issue is: 1085.1728045325779 times\n"
          ],
          "name": "stdout"
        }
      ]
    },
    {
      "cell_type": "code",
      "metadata": {
        "id": "0iRafzO8WYx7",
        "colab_type": "code",
        "outputId": "f71547a0-ca6f-475e-afe8-d9171dae543b",
        "colab": {
          "base_uri": "https://localhost:8080/",
          "height": 51
        }
      },
      "source": [
        "avg_ocur = np.average(reps)\n",
        "upavg = reps > avg_ocur\n",
        "doavg = reps < avg_ocur\n",
        "print(\"issues occured more than average \", upavg.sum())\n",
        "print(\"issues occured less than average \", doavg.sum())"
      ],
      "execution_count": 0,
      "outputs": [
        {
          "output_type": "stream",
          "text": [
            "issues occured more than average  86\n",
            "issues occured less than average  267\n"
          ],
          "name": "stdout"
        }
      ]
    },
    {
      "cell_type": "code",
      "metadata": {
        "id": "PVf58DQyYHRR",
        "colab_type": "code",
        "outputId": "0f9b9385-a4c0-4235-877a-8ae1f694ef67",
        "colab": {
          "base_uri": "https://localhost:8080/",
          "height": 34
        }
      },
      "source": [
        "val = 100\n",
        "outliers = reps < val\n",
        "print(\"outliers issue that occured less than \", val,\"times are\", outliers.sum())"
      ],
      "execution_count": 0,
      "outputs": [
        {
          "output_type": "stream",
          "text": [
            "outliers issue that occured less than  100 times are 109\n"
          ],
          "name": "stdout"
        }
      ]
    },
    {
      "cell_type": "code",
      "metadata": {
        "id": "fGvDOsNeew-h",
        "colab_type": "code",
        "outputId": "8b6b6c13-c164-4c23-cb6a-6fb41b51d129",
        "colab": {
          "base_uri": "https://localhost:8080/",
          "height": 85
        }
      },
      "source": [
        "val = 5000\n",
        "summ = 0\n",
        "numm = 0\n",
        "for rep in reps:\n",
        "  if rep <= val:\n",
        "    numm+=1\n",
        "    summ+=rep\n",
        "print(\"Number of issue ids that occured less than\", val, \"times are\", numm)\n",
        "print(\"Number of complaints with these issue id are\", summ, \"which is \",100* summ/np.sum(reps),\"%\")\n",
        "print(\"Number of issue ids that occured more than\", val, \"times are\", len(reps) - numm)\n",
        "print(\"Number of complaints with these issue id are\", np.sum(reps) - summ, \"which is \",100 - 100* summ/np.sum(reps),\"%\")"
      ],
      "execution_count": 0,
      "outputs": [
        {
          "output_type": "stream",
          "text": [
            "Number of issue ids that occured less than 5000 times are 335\n",
            "Number of complaints with these issue id are 213758 which is  55.80187226222113 %\n",
            "Number of issue ids that occured more than 5000 times are 18\n",
            "Number of complaints with these issue id are 169308 which is  44.19812773777887 %\n"
          ],
          "name": "stdout"
        }
      ]
    },
    {
      "cell_type": "code",
      "metadata": {
        "id": "M_X8WK9neOju",
        "colab_type": "code",
        "outputId": "4aa70730-4d62-4fc6-ddd9-fc4200402f9e",
        "colab": {
          "base_uri": "https://localhost:8080/",
          "height": 282
        }
      },
      "source": [
        "reps.hist()"
      ],
      "execution_count": 0,
      "outputs": [
        {
          "output_type": "execute_result",
          "data": {
            "text/plain": [
              "<matplotlib.axes._subplots.AxesSubplot at 0x7efcc7f8e588>"
            ]
          },
          "metadata": {
            "tags": []
          },
          "execution_count": 12
        },
        {
          "output_type": "display_data",
          "data": {
            "image/png": "[encoded data removed]",
            "text/plain": [
              "<Figure size 432x288 with 1 Axes>"
            ]
          },
          "metadata": {
            "tags": [],
            "needs_background": "light"
          }
        }
      ]
    },
    {
      "cell_type": "code",
      "metadata": {
        "id": "0TZNw2Tfg5PU",
        "colab_type": "code",
        "colab": {}
      },
      "source": [
        "compliants_lengths = df['COMPLAINT_TEXT'].apply(len)"
      ],
      "execution_count": 0,
      "outputs": []
    },
    {
      "cell_type": "code",
      "metadata": {
        "id": "TAZUrIrjhSYM",
        "colab_type": "code",
        "outputId": "cfc09323-ab73-4f61-fe8e-89492965b22a",
        "colab": {
          "base_uri": "https://localhost:8080/",
          "height": 85
        }
      },
      "source": [
        "print(\"Number of complaints is:\", len(df))\n",
        "print(\"Longest complaints is: \",np.max(compliants_lengths))\n",
        "print(\"shorttest complaints is: \",np.min(compliants_lengths))\n",
        "print(\"average complaints is: \",np.average(compliants_lengths))"
      ],
      "execution_count": 0,
      "outputs": [
        {
          "output_type": "stream",
          "text": [
            "Number of complaints is: 383066\n",
            "Longest complaints is:  31735\n",
            "shorttest complaints is:  5\n",
            "average complaints is:  1082.0081944103626\n"
          ],
          "name": "stdout"
        }
      ]
    },
    {
      "cell_type": "code",
      "metadata": {
        "id": "pinC_2z_h3Xs",
        "colab_type": "code",
        "colab": {}
      },
      "source": [
        "trainable_data = df[['ISSUE_ID', 'COMPLAINT_TEXT']]"
      ],
      "execution_count": 0,
      "outputs": []
    },
    {
      "cell_type": "code",
      "metadata": {
        "id": "XEqY2Mjuh-pq",
        "colab_type": "code",
        "outputId": "09ede735-ef80-434c-f7df-dbe1dcd01b81",
        "colab": {
          "base_uri": "https://localhost:8080/",
          "height": 34
        }
      },
      "source": [
        "len(trainable_data)"
      ],
      "execution_count": 0,
      "outputs": [
        {
          "output_type": "execute_result",
          "data": {
            "text/plain": [
              "383066"
            ]
          },
          "metadata": {
            "tags": []
          },
          "execution_count": 16
        }
      ]
    },
    {
      "cell_type": "code",
      "metadata": {
        "id": "6DcUF0d9lYDn",
        "colab_type": "code",
        "outputId": "8f1b49c2-0150-45a4-f980-a06036957866",
        "colab": {
          "base_uri": "https://localhost:8080/",
          "height": 34
        }
      },
      "source": [
        "len(trainable_data.dropna())"
      ],
      "execution_count": 0,
      "outputs": [
        {
          "output_type": "execute_result",
          "data": {
            "text/plain": [
              "383066"
            ]
          },
          "metadata": {
            "tags": []
          },
          "execution_count": 17
        }
      ]
    },
    {
      "cell_type": "code",
      "metadata": {
        "id": "SCa2SlDhmHx6",
        "colab_type": "code",
        "colab": {}
      },
      "source": [
        "val = 100\n",
        "outliers = reps < val\n",
        "maj_class_data = trainable_data.copy()\n",
        "ind = 1\n",
        "ind_map = {}\n",
        "for index, row in maj_class_data.iterrows():\n",
        "  if outliers[row['ISSUE_ID']]:\n",
        "    maj_class_data.at[index, 'ISSUE_ID'] = 0\n",
        "  elif row['ISSUE_ID'] in ind_map:\n",
        "    maj_class_data.at[index, 'ISSUE_ID'] = ind_map[row['ISSUE_ID']]\n",
        "  else:\n",
        "    ind_map[row['ISSUE_ID']] = ind\n",
        "    maj_class_data.at[index, 'ISSUE_ID'] = ind\n",
        "    ind += 1\n"
      ],
      "execution_count": 0,
      "outputs": []
    },
    {
      "cell_type": "code",
      "metadata": {
        "id": "sWdWkSMSnp0F",
        "colab_type": "code",
        "outputId": "e8e65eb0-5d4b-4db9-ed70-b6b1986f8b90",
        "colab": {
          "base_uri": "https://localhost:8080/",
          "height": 204
        }
      },
      "source": [
        "trainable_data.head()"
      ],
      "execution_count": 0,
      "outputs": [
        {
          "output_type": "execute_result",
          "data": {
            "text/html": [
              "<div>\n",
              "<style scoped>\n",
              "    .dataframe tbody tr th:only-of-type {\n",
              "        vertical-align: middle;\n",
              "    }\n",
              "\n",
              "    .dataframe tbody tr th {\n",
              "        vertical-align: top;\n",
              "    }\n",
              "\n",
              "    .dataframe thead th {\n",
              "        text-align: right;\n",
              "    }\n",
              "</style>\n",
              "<table border=\"1\" class=\"dataframe\">\n",
              "  <thead>\n",
              "    <tr style=\"text-align: right;\">\n",
              "      <th></th>\n",
              "      <th>ISSUE_ID</th>\n",
              "      <th>COMPLAINT_TEXT</th>\n",
              "    </tr>\n",
              "  </thead>\n",
              "  <tbody>\n",
              "    <tr>\n",
              "      <th>0</th>\n",
              "      <td>253</td>\n",
              "      <td>XXXX  and Transunion are reporting incorrectly...</td>\n",
              "    </tr>\n",
              "    <tr>\n",
              "      <th>1</th>\n",
              "      <td>253</td>\n",
              "      <td>XXXX and Transunion are reporting incorrectly ...</td>\n",
              "    </tr>\n",
              "    <tr>\n",
              "      <th>2</th>\n",
              "      <td>165</td>\n",
              "      <td>XXXX, XXXX, and Experian need to remove the co...</td>\n",
              "    </tr>\n",
              "    <tr>\n",
              "      <th>3</th>\n",
              "      <td>253</td>\n",
              "      <td>3 company with inconsistencies, violations and...</td>\n",
              "    </tr>\n",
              "    <tr>\n",
              "      <th>4</th>\n",
              "      <td>165</td>\n",
              "      <td>I have a personal loan from Patriot finance. T...</td>\n",
              "    </tr>\n",
              "  </tbody>\n",
              "</table>\n",
              "</div>"
            ],
            "text/plain": [
              "   ISSUE_ID                                     COMPLAINT_TEXT\n",
              "0       253  XXXX  and Transunion are reporting incorrectly...\n",
              "1       253  XXXX and Transunion are reporting incorrectly ...\n",
              "2       165  XXXX, XXXX, and Experian need to remove the co...\n",
              "3       253  3 company with inconsistencies, violations and...\n",
              "4       165  I have a personal loan from Patriot finance. T..."
            ]
          },
          "metadata": {
            "tags": []
          },
          "execution_count": 19
        }
      ]
    },
    {
      "cell_type": "code",
      "metadata": {
        "id": "1s0gxEZunDQx",
        "colab_type": "code",
        "outputId": "602a5dc0-3f7d-4a2d-b570-b7453e49413c",
        "colab": {
          "base_uri": "https://localhost:8080/",
          "height": 204
        }
      },
      "source": [
        "maj_class_data.head()"
      ],
      "execution_count": 0,
      "outputs": [
        {
          "output_type": "execute_result",
          "data": {
            "text/html": [
              "<div>\n",
              "<style scoped>\n",
              "    .dataframe tbody tr th:only-of-type {\n",
              "        vertical-align: middle;\n",
              "    }\n",
              "\n",
              "    .dataframe tbody tr th {\n",
              "        vertical-align: top;\n",
              "    }\n",
              "\n",
              "    .dataframe thead th {\n",
              "        text-align: right;\n",
              "    }\n",
              "</style>\n",
              "<table border=\"1\" class=\"dataframe\">\n",
              "  <thead>\n",
              "    <tr style=\"text-align: right;\">\n",
              "      <th></th>\n",
              "      <th>ISSUE_ID</th>\n",
              "      <th>COMPLAINT_TEXT</th>\n",
              "    </tr>\n",
              "  </thead>\n",
              "  <tbody>\n",
              "    <tr>\n",
              "      <th>0</th>\n",
              "      <td>1</td>\n",
              "      <td>XXXX  and Transunion are reporting incorrectly...</td>\n",
              "    </tr>\n",
              "    <tr>\n",
              "      <th>1</th>\n",
              "      <td>1</td>\n",
              "      <td>XXXX and Transunion are reporting incorrectly ...</td>\n",
              "    </tr>\n",
              "    <tr>\n",
              "      <th>2</th>\n",
              "      <td>2</td>\n",
              "      <td>XXXX, XXXX, and Experian need to remove the co...</td>\n",
              "    </tr>\n",
              "    <tr>\n",
              "      <th>3</th>\n",
              "      <td>1</td>\n",
              "      <td>3 company with inconsistencies, violations and...</td>\n",
              "    </tr>\n",
              "    <tr>\n",
              "      <th>4</th>\n",
              "      <td>2</td>\n",
              "      <td>I have a personal loan from Patriot finance. T...</td>\n",
              "    </tr>\n",
              "  </tbody>\n",
              "</table>\n",
              "</div>"
            ],
            "text/plain": [
              "   ISSUE_ID                                     COMPLAINT_TEXT\n",
              "0         1  XXXX  and Transunion are reporting incorrectly...\n",
              "1         1  XXXX and Transunion are reporting incorrectly ...\n",
              "2         2  XXXX, XXXX, and Experian need to remove the co...\n",
              "3         1  3 company with inconsistencies, violations and...\n",
              "4         2  I have a personal loan from Patriot finance. T..."
            ]
          },
          "metadata": {
            "tags": []
          },
          "execution_count": 20
        }
      ]
    },
    {
      "cell_type": "code",
      "metadata": {
        "id": "Ozrk-ZQxwZu-",
        "colab_type": "code",
        "colab": {}
      },
      "source": [
        "import re\n",
        "from nltk.corpus import stopwords\n",
        "from sklearn.model_selection import train_test_split"
      ],
      "execution_count": 0,
      "outputs": []
    },
    {
      "cell_type": "code",
      "metadata": {
        "id": "TNnhz0s8Cnhy",
        "colab_type": "code",
        "outputId": "8a25bdad-8cc4-4467-b301-480c08812acc",
        "colab": {
          "base_uri": "https://localhost:8080/",
          "height": 68
        }
      },
      "source": [
        "import nltk\n",
        "nltk.download('stopwords')"
      ],
      "execution_count": 0,
      "outputs": [
        {
          "output_type": "stream",
          "text": [
            "[nltk_data] Downloading package stopwords to /root/nltk_data...\n",
            "[nltk_data]   Unzipping corpora/stopwords.zip.\n"
          ],
          "name": "stdout"
        },
        {
          "output_type": "execute_result",
          "data": {
            "text/plain": [
              "True"
            ]
          },
          "metadata": {
            "tags": []
          },
          "execution_count": 22
        }
      ]
    },
    {
      "cell_type": "markdown",
      "metadata": {
        "id": "NLc-uqIG_9CA",
        "colab_type": "text"
      },
      "source": [
        "Here we are going to try out the traditional ways of text classification."
      ]
    },
    {
      "cell_type": "code",
      "metadata": {
        "id": "F807JvzxAJ9L",
        "colab_type": "code",
        "colab": {}
      },
      "source": [
        "REPLACE_BY_SPACE_RE = re.compile('[/(){}\\[\\]\\|@,;]')\n",
        "BAD_SYMBOLS_RE = re.compile('[^0-9a-z #+_]')\n",
        "XX_RE = re.compile('X\\w*')\n",
        "STOPWORDS = set(stopwords.words('english'))\n",
        "\n",
        "def clean_text(text):\n",
        "    text = XX_RE.sub('', text)\n",
        "    text = text.lower()\n",
        "    text = REPLACE_BY_SPACE_RE.sub(' ', text)\n",
        "    text = BAD_SYMBOLS_RE.sub('', text)\n",
        "    text = ' '.join(word for word in text.split() if word not in STOPWORDS) \n",
        "    return text\n",
        "    \n",
        "maj_class_data['COMPLAINT_TEXT'] = maj_class_data['COMPLAINT_TEXT'].apply(clean_text)\n"
      ],
      "execution_count": 0,
      "outputs": []
    },
    {
      "cell_type": "code",
      "metadata": {
        "id": "KzZvRxk4DOb7",
        "colab_type": "code",
        "outputId": "e0ae1e89-faa6-4c4c-8ee5-2ff2212764af",
        "colab": {
          "base_uri": "https://localhost:8080/",
          "height": 34
        }
      },
      "source": [
        "maj_class_data['COMPLAINT_TEXT'].apply(lambda x: len(x.split(' '))).sum()"
      ],
      "execution_count": 0,
      "outputs": [
        {
          "output_type": "execute_result",
          "data": {
            "text/plain": [
              "33981834"
            ]
          },
          "metadata": {
            "tags": []
          },
          "execution_count": 24
        }
      ]
    },
    {
      "cell_type": "code",
      "metadata": {
        "id": "uaMA2ZUhD42C",
        "colab_type": "code",
        "colab": {}
      },
      "source": [
        "X = maj_class_data['COMPLAINT_TEXT']\n",
        "y = maj_class_data['ISSUE_ID']\n",
        "X_train, X_test, y_train, y_test = train_test_split(X, y, test_size=0.3, random_state = 42)"
      ],
      "execution_count": 0,
      "outputs": []
    },
    {
      "cell_type": "markdown",
      "metadata": {
        "id": "WQfuBUyLDrTZ",
        "colab_type": "text"
      },
      "source": [
        "**Naive Bayes Classifier**"
      ]
    },
    {
      "cell_type": "code",
      "metadata": {
        "id": "g-RK7_XhDlqO",
        "colab_type": "code",
        "outputId": "ccaaab81-205d-4d82-d1ce-f2596e951be2",
        "colab": {
          "base_uri": "https://localhost:8080/",
          "height": 34
        }
      },
      "source": [
        "from sklearn.feature_extraction.text import CountVectorizer, TfidfVectorizer\n",
        "from sklearn.naive_bayes import MultinomialNB\n",
        "from sklearn.pipeline import Pipeline\n",
        "from sklearn.metrics import accuracy_score, confusion_matrix\n",
        "from sklearn.feature_extraction.text import TfidfTransformer\n",
        "\n",
        "nb = Pipeline([('vect', CountVectorizer()),\n",
        "               ('tfidf', TfidfTransformer()),\n",
        "               ('clf', MultinomialNB()),\n",
        "              ])\n",
        "nb.fit(X_train, y_train)\n",
        "\n",
        "y_pred = nb.predict(X_test)\n",
        "\n",
        "print('accuracy %s' % accuracy_score(y_pred, y_test))\n"
      ],
      "execution_count": 0,
      "outputs": [
        {
          "output_type": "stream",
          "text": [
            "accuracy 0.17000522102332058\n"
          ],
          "name": "stdout"
        }
      ]
    },
    {
      "cell_type": "markdown",
      "metadata": {
        "id": "WKaJ0ovDFVKu",
        "colab_type": "text"
      },
      "source": [
        "**Linear Support Vector Machine**"
      ]
    },
    {
      "cell_type": "code",
      "metadata": {
        "id": "3ZSwcwGHFTq-",
        "colab_type": "code",
        "outputId": "22e6c3db-5fe7-4256-9e27-f8cdabb93e01",
        "colab": {
          "base_uri": "https://localhost:8080/",
          "height": 34
        }
      },
      "source": [
        "from sklearn.linear_model import SGDClassifier\n",
        "\n",
        "sgd = Pipeline([('vect', CountVectorizer()),\n",
        "                ('tfidf', TfidfTransformer()),\n",
        "                ('clf', SGDClassifier(loss='hinge', penalty='l2',alpha=1e-3, random_state=42, max_iter=5, tol=None)),\n",
        "               ])\n",
        "sgd.fit(X_train, y_train)\n",
        "\n",
        "y_pred = sgd.predict(X_test)\n",
        "\n",
        "print('accuracy %s' % accuracy_score(y_pred, y_test))"
      ],
      "execution_count": 0,
      "outputs": [
        {
          "output_type": "stream",
          "text": [
            "accuracy 0.313783501566307\n"
          ],
          "name": "stdout"
        }
      ]
    },
    {
      "cell_type": "markdown",
      "metadata": {
        "id": "26yIvQuMFdXN",
        "colab_type": "text"
      },
      "source": [
        "**Logistic Regression**"
      ]
    },
    {
      "cell_type": "code",
      "metadata": {
        "id": "KBW5e8gNFckY",
        "colab_type": "code",
        "outputId": "97e9101f-945a-44af-f4bb-5370f7a3be57",
        "colab": {
          "base_uri": "https://localhost:8080/",
          "height": 170
        }
      },
      "source": [
        "from sklearn.linear_model import LogisticRegression\n",
        "\n",
        "logreg = Pipeline([('vect', CountVectorizer()),\n",
        "                ('tfidf', TfidfTransformer()),\n",
        "                ('clf', LogisticRegression(n_jobs=1, C=1e5)),\n",
        "               ])\n",
        "logreg.fit(X_train, y_train)\n",
        "\n",
        "y_pred = logreg.predict(X_test)\n",
        "\n",
        "print('accuracy %s' % accuracy_score(y_pred, y_test))"
      ],
      "execution_count": 0,
      "outputs": [
        {
          "output_type": "stream",
          "text": [
            "/usr/local/lib/python3.6/dist-packages/sklearn/linear_model/_logistic.py:940: ConvergenceWarning: lbfgs failed to converge (status=1):\n",
            "STOP: TOTAL NO. of ITERATIONS REACHED LIMIT.\n",
            "\n",
            "Increase the number of iterations (max_iter) or scale the data as shown in:\n",
            "    https://scikit-learn.org/stable/modules/preprocessing.html\n",
            "Please also refer to the documentation for alternative solver options:\n",
            "    https://scikit-learn.org/stable/modules/linear_model.html#logistic-regression\n",
            "  extra_warning_msg=_LOGISTIC_SOLVER_CONVERGENCE_MSG)\n"
          ],
          "name": "stderr"
        },
        {
          "output_type": "stream",
          "text": [
            "accuracy 0.3580316742081448\n"
          ],
          "name": "stdout"
        }
      ]
    },
    {
      "cell_type": "markdown",
      "metadata": {
        "id": "m0Nhtx3hFinO",
        "colab_type": "text"
      },
      "source": [
        "**Word2vec and Logistic Regression**"
      ]
    },
    {
      "cell_type": "code",
      "metadata": {
        "id": "2jW0qWn5Fnt-",
        "colab_type": "code",
        "outputId": "a8279ac4-098f-4975-f6f0-bd16f56ac772",
        "colab": {
          "base_uri": "https://localhost:8080/",
          "height": 71
        }
      },
      "source": [
        "import gensim \n",
        "from gensim.models import Word2Vec\n",
        "\n",
        "wv_path = \"/content/drive/My Drive/GoogleNews-vectors-negative300.bin.gz\"\n",
        "wv = gensim.models.KeyedVectors.load_word2vec_format(wv_path, binary=True)\n",
        "wv.init_sims(replace=True)"
      ],
      "execution_count": 0,
      "outputs": [
        {
          "output_type": "stream",
          "text": [
            "/usr/local/lib/python3.6/dist-packages/smart_open/smart_open_lib.py:253: UserWarning: This function is deprecated, use smart_open.open instead. See the migration notes for details: https://github.com/RaRe-Technologies/smart_open/blob/master/README.rst#migrating-to-the-new-open-function\n",
            "  'See the migration notes for details: %s' % _MIGRATION_NOTES_URL\n"
          ],
          "name": "stderr"
        }
      ]
    },
    {
      "cell_type": "code",
      "metadata": {
        "id": "jptNxqTqd_tL",
        "colab_type": "code",
        "outputId": "7f014051-4d35-415e-fa49-b844dcaf4244",
        "colab": {
          "base_uri": "https://localhost:8080/",
          "height": 68
        }
      },
      "source": [
        "nltk.download('punkt')"
      ],
      "execution_count": 0,
      "outputs": [
        {
          "output_type": "stream",
          "text": [
            "[nltk_data] Downloading package punkt to /root/nltk_data...\n",
            "[nltk_data]   Unzipping tokenizers/punkt.zip.\n"
          ],
          "name": "stdout"
        },
        {
          "output_type": "execute_result",
          "data": {
            "text/plain": [
              "True"
            ]
          },
          "metadata": {
            "tags": []
          },
          "execution_count": 30
        }
      ]
    },
    {
      "cell_type": "code",
      "metadata": {
        "id": "hd2KlT7iFp-m",
        "colab_type": "code",
        "colab": {}
      },
      "source": [
        "def word_averaging(wv, words):\n",
        "    all_words, mean = set(), []\n",
        "    \n",
        "    for word in words:\n",
        "        if isinstance(word, np.ndarray):\n",
        "            mean.append(word)\n",
        "        elif word in wv.vocab:\n",
        "            mean.append(wv.syn0norm[wv.vocab[word].index])\n",
        "            all_words.add(wv.vocab[word].index)\n",
        "\n",
        "    if not mean:\n",
        "        return np.zeros(wv.vector_size,)\n",
        "\n",
        "    mean = gensim.matutils.unitvec(np.array(mean).mean(axis=0)).astype(np.float32)\n",
        "    return mean\n",
        "\n",
        "def  word_averaging_list(wv, text_list):\n",
        "    return np.vstack([word_averaging(wv, post) for post in text_list ])"
      ],
      "execution_count": 0,
      "outputs": []
    },
    {
      "cell_type": "code",
      "metadata": {
        "id": "q6c8iiMTqnrT",
        "colab_type": "code",
        "colab": {}
      },
      "source": [
        "def w2v_tokenize_text(text):\n",
        "    tokens = []\n",
        "    for sent in nltk.sent_tokenize(text, language='english'):\n",
        "        for word in nltk.word_tokenize(sent, language='english'):\n",
        "            if len(word) < 2:\n",
        "                continue\n",
        "            tokens.append(word)\n",
        "    return tokens\n",
        "    \n",
        "train, test = train_test_split(maj_class_data, test_size=0.3, random_state = 42)\n",
        "\n",
        "test_tokenized = test.apply(lambda r: w2v_tokenize_text(r['COMPLAINT_TEXT']), axis=1).values\n",
        "train_tokenized = train.apply(lambda r: w2v_tokenize_text(r['COMPLAINT_TEXT']), axis=1).values"
      ],
      "execution_count": 0,
      "outputs": []
    },
    {
      "cell_type": "code",
      "metadata": {
        "id": "YmFRNtlsFuMa",
        "colab_type": "code",
        "outputId": "c3e48f06-f692-410f-9eb1-a4e52f8a7bc7",
        "colab": {
          "base_uri": "https://localhost:8080/",
          "height": 105
        }
      },
      "source": [
        "X_train_word_average = word_averaging_list(wv,train_tokenized)\n",
        "X_test_word_average = word_averaging_list(wv,test_tokenized)"
      ],
      "execution_count": 0,
      "outputs": [
        {
          "output_type": "stream",
          "text": [
            "/usr/local/lib/python3.6/dist-packages/ipykernel_launcher.py:8: DeprecationWarning: Call to deprecated `syn0norm` (Attribute will be removed in 4.0.0, use self.wv.vectors_norm instead).\n",
            "  \n",
            "/usr/local/lib/python3.6/dist-packages/gensim/matutils.py:737: FutureWarning: Conversion of the second argument of issubdtype from `int` to `np.signedinteger` is deprecated. In future, it will be treated as `np.int64 == np.dtype(int).type`.\n",
            "  if np.issubdtype(vec.dtype, np.int):\n"
          ],
          "name": "stderr"
        }
      ]
    },
    {
      "cell_type": "code",
      "metadata": {
        "id": "dSpTaTqIFwny",
        "colab_type": "code",
        "outputId": "4fb18f3f-693a-4129-9725-168057c11121",
        "colab": {
          "base_uri": "https://localhost:8080/",
          "height": 153
        }
      },
      "source": [
        "from sklearn.linear_model import LogisticRegression\n",
        "logreg = LogisticRegression(n_jobs=1, C=1e5)\n",
        "logreg = logreg.fit(X_train_word_average, train['ISSUE_ID'])\n",
        "y_pred = logreg.predict(X_test_word_average)"
      ],
      "execution_count": 0,
      "outputs": [
        {
          "output_type": "stream",
          "text": [
            "/usr/local/lib/python3.6/dist-packages/sklearn/linear_model/_logistic.py:940: ConvergenceWarning: lbfgs failed to converge (status=1):\n",
            "STOP: TOTAL NO. of ITERATIONS REACHED LIMIT.\n",
            "\n",
            "Increase the number of iterations (max_iter) or scale the data as shown in:\n",
            "    https://scikit-learn.org/stable/modules/preprocessing.html\n",
            "Please also refer to the documentation for alternative solver options:\n",
            "    https://scikit-learn.org/stable/modules/linear_model.html#logistic-regression\n",
            "  extra_warning_msg=_LOGISTIC_SOLVER_CONVERGENCE_MSG)\n"
          ],
          "name": "stderr"
        }
      ]
    },
    {
      "cell_type": "code",
      "metadata": {
        "id": "juWRDWTDMOkq",
        "colab_type": "code",
        "outputId": "0e75eed9-04a2-43f0-b3c1-66c258e9db89",
        "colab": {
          "base_uri": "https://localhost:8080/",
          "height": 180
        }
      },
      "source": [
        "from sklearn.metrics import accuracy_score\n",
        "print('accuracy %s' % accuracy_score(y_pred, test['ISSUE_ID']))"
      ],
      "execution_count": 0,
      "outputs": [
        {
          "output_type": "error",
          "ename": "NameError",
          "evalue": "ignored",
          "traceback": [
            "\u001b[0;31m---------------------------------------------------------------------------\u001b[0m",
            "\u001b[0;31mNameError\u001b[0m                                 Traceback (most recent call last)",
            "\u001b[0;32m<ipython-input-29-54ca8e2b3503>\u001b[0m in \u001b[0;36m<module>\u001b[0;34m()\u001b[0m\n\u001b[1;32m      1\u001b[0m \u001b[0;32mfrom\u001b[0m \u001b[0msklearn\u001b[0m\u001b[0;34m.\u001b[0m\u001b[0mmetrics\u001b[0m \u001b[0;32mimport\u001b[0m \u001b[0maccuracy_score\u001b[0m\u001b[0;34m\u001b[0m\u001b[0;34m\u001b[0m\u001b[0m\n\u001b[0;32m----> 2\u001b[0;31m \u001b[0mprint\u001b[0m\u001b[0;34m(\u001b[0m\u001b[0;34m'accuracy %s'\u001b[0m \u001b[0;34m%\u001b[0m \u001b[0maccuracy_score\u001b[0m\u001b[0;34m(\u001b[0m\u001b[0my_pred\u001b[0m\u001b[0;34m,\u001b[0m \u001b[0mtest\u001b[0m\u001b[0;34m[\u001b[0m\u001b[0;34m'ISSUE_ID'\u001b[0m\u001b[0;34m]\u001b[0m\u001b[0;34m)\u001b[0m\u001b[0;34m)\u001b[0m\u001b[0;34m\u001b[0m\u001b[0;34m\u001b[0m\u001b[0m\n\u001b[0m",
            "\u001b[0;31mNameError\u001b[0m: name 'test' is not defined"
          ]
        }
      ]
    },
    {
      "cell_type": "markdown",
      "metadata": {
        "id": "bo0MSeXMz5T_",
        "colab_type": "text"
      },
      "source": [
        "**Doc2vec and Logistic Regression**"
      ]
    },
    {
      "cell_type": "code",
      "metadata": {
        "id": "ClBWLfSMzLZV",
        "colab_type": "code",
        "colab": {}
      },
      "source": [
        "from tqdm import tqdm\n",
        "tqdm.pandas(desc=\"progress-bar\")\n",
        "from gensim.models import Doc2Vec\n",
        "from sklearn import utils\n",
        "import gensim\n",
        "from gensim.models.doc2vec import TaggedDocument\n",
        "from gensim.models import doc2vec\n",
        "import re\n",
        "\n",
        "def label_sentences(corpus, label_type):\n",
        "    labeled = []\n",
        "    for i, v in enumerate(corpus):\n",
        "        label = label_type + '_' + str(i)\n",
        "        labeled.append(doc2vec.TaggedDocument(v.split(), [label]))\n",
        "    return labeled\n",
        "X_train, X_test, y_train, y_test = train_test_split(maj_class_data['COMPLAINT_TEXT'], maj_class_data['ISSUE_ID'], random_state=0, test_size=0.3)\n",
        "X_train = label_sentences(X_train, 'Train')\n",
        "X_test = label_sentences(X_test, 'Test')\n",
        "all_data = X_train + X_test"
      ],
      "execution_count": 0,
      "outputs": []
    },
    {
      "cell_type": "code",
      "metadata": {
        "id": "6H68kcpYzvsf",
        "colab_type": "code",
        "outputId": "b2cd2e57-a294-4ce6-c80b-9dd7a224ef6f",
        "colab": {
          "base_uri": "https://localhost:8080/",
          "height": 544
        }
      },
      "source": [
        "model_dbow = Doc2Vec(dm=0, vector_size=300, negative=5, min_count=1, alpha=0.065, min_alpha=0.065)\n",
        "model_dbow.build_vocab([x for x in tqdm(all_data)])\n",
        "\n",
        "for epoch in range(30):\n",
        "    model_dbow.train(utils.shuffle([x for x in tqdm(all_data)]), total_examples=len(all_data), epochs=1)\n",
        "    model_dbow.alpha -= 0.002\n",
        "    model_dbow.min_alpha = model_dbow.alpha"
      ],
      "execution_count": 0,
      "outputs": [
        {
          "output_type": "stream",
          "text": [
            "100%|██████████| 383066/383066 [00:00<00:00, 3273578.53it/s]\n",
            "100%|██████████| 383066/383066 [00:00<00:00, 3292071.01it/s]\n",
            "100%|██████████| 383066/383066 [00:00<00:00, 3075992.10it/s]\n",
            "100%|██████████| 383066/383066 [00:00<00:00, 3203134.08it/s]\n",
            "100%|██████████| 383066/383066 [00:00<00:00, 3290533.79it/s]\n",
            "100%|██████████| 383066/383066 [00:00<00:00, 3239905.90it/s]\n",
            "100%|██████████| 383066/383066 [00:00<00:00, 3290567.48it/s]\n",
            "100%|██████████| 383066/383066 [00:00<00:00, 3270486.67it/s]\n",
            "100%|██████████| 383066/383066 [00:00<00:00, 3318514.41it/s]\n",
            "100%|██████████| 383066/383066 [00:00<00:00, 3354676.05it/s]\n",
            "100%|██████████| 383066/383066 [00:00<00:00, 3290971.88it/s]\n",
            "100%|██████████| 383066/383066 [00:00<00:00, 3310548.49it/s]\n",
            "100%|██████████| 383066/383066 [00:00<00:00, 3351918.60it/s]\n",
            "100%|██████████| 383066/383066 [00:00<00:00, 3294095.86it/s]\n",
            "100%|██████████| 383066/383066 [00:00<00:00, 3269435.17it/s]\n",
            "100%|██████████| 383066/383066 [00:00<00:00, 3213756.88it/s]\n",
            "100%|██████████| 383066/383066 [00:00<00:00, 3151692.97it/s]\n",
            "100%|██████████| 383066/383066 [00:00<00:00, 3298958.91it/s]\n",
            "100%|██████████| 383066/383066 [00:00<00:00, 3365271.97it/s]\n",
            "100%|██████████| 383066/383066 [00:00<00:00, 3331312.31it/s]\n",
            "100%|██████████| 383066/383066 [00:00<00:00, 3253282.26it/s]\n",
            "100%|██████████| 383066/383066 [00:00<00:00, 3327607.31it/s]\n",
            "100%|██████████| 383066/383066 [00:00<00:00, 3310118.80it/s]\n",
            "100%|██████████| 383066/383066 [00:00<00:00, 3291976.58it/s]\n",
            "100%|██████████| 383066/383066 [00:00<00:00, 3221469.96it/s]\n",
            "100%|██████████| 383066/383066 [00:00<00:00, 3249479.23it/s]\n",
            "100%|██████████| 383066/383066 [00:00<00:00, 3192314.85it/s]\n",
            "100%|██████████| 383066/383066 [00:00<00:00, 3283573.61it/s]\n",
            "100%|██████████| 383066/383066 [00:00<00:00, 3285258.83it/s]\n",
            "100%|██████████| 383066/383066 [00:00<00:00, 3297665.66it/s]\n",
            "100%|██████████| 383066/383066 [00:00<00:00, 3138168.61it/s]\n"
          ],
          "name": "stderr"
        }
      ]
    },
    {
      "cell_type": "code",
      "metadata": {
        "id": "xVa9jtnAzzI1",
        "colab_type": "code",
        "colab": {}
      },
      "source": [
        "def get_vectors(model, corpus_size, vectors_size, vectors_type):\n",
        "    vectors = np.zeros((corpus_size, vectors_size))\n",
        "    for i in range(0, corpus_size):\n",
        "        prefix = vectors_type + '_' + str(i)\n",
        "        vectors[i] = model.docvecs[prefix]\n",
        "    return vectors\n",
        "    \n",
        "train_vectors_dbow = get_vectors(model_dbow, len(X_train), 300, 'Train')\n",
        "test_vectors_dbow = get_vectors(model_dbow, len(X_test), 300, 'Test')"
      ],
      "execution_count": 0,
      "outputs": []
    },
    {
      "cell_type": "code",
      "metadata": {
        "id": "jIPbH4upz1jG",
        "colab_type": "code",
        "outputId": "c05e8200-17d6-49aa-ed2e-361d5ded85e0",
        "colab": {
          "base_uri": "https://localhost:8080/",
          "height": 153
        }
      },
      "source": [
        "from sklearn.linear_model import LogisticRegression\n",
        "logreg = LogisticRegression(n_jobs=1, C=1e5, max_iter=1000)\n",
        "logreg.fit(train_vectors_dbow, y_train)\n",
        "logreg = logreg.fit(train_vectors_dbow, y_train)\n",
        "y_pred = logreg.predict(test_vectors_dbow)\n",
        "print('accuracy %s' % accuracy_score(y_pred, y_test))"
      ],
      "execution_count": 0,
      "outputs": [
        {
          "output_type": "stream",
          "text": [
            "/usr/local/lib/python3.6/dist-packages/sklearn/linear_model/_logistic.py:940: ConvergenceWarning: lbfgs failed to converge (status=1):\n",
            "STOP: TOTAL NO. of ITERATIONS REACHED LIMIT.\n",
            "\n",
            "Increase the number of iterations (max_iter) or scale the data as shown in:\n",
            "    https://scikit-learn.org/stable/modules/preprocessing.html\n",
            "Please also refer to the documentation for alternative solver options:\n",
            "    https://scikit-learn.org/stable/modules/linear_model.html#logistic-regression\n",
            "  extra_warning_msg=_LOGISTIC_SOLVER_CONVERGENCE_MSG)\n"
          ],
          "name": "stderr"
        }
      ]
    },
    {
      "cell_type": "markdown",
      "metadata": {
        "id": "X1DKvPbDsL-d",
        "colab_type": "text"
      },
      "source": [
        "**Neural Network**"
      ]
    },
    {
      "cell_type": "code",
      "metadata": {
        "id": "H18jOpRSta9y",
        "colab_type": "code",
        "outputId": "7a8b0bf5-4f2c-4d57-abc9-4337d918cbfb",
        "colab": {
          "base_uri": "https://localhost:8080/",
          "height": 34
        }
      },
      "source": [
        "from sklearn import model_selection, preprocessing, linear_model, naive_bayes, metrics, svm\n",
        "from sklearn.feature_extraction.text import TfidfVectorizer, CountVectorizer\n",
        "from sklearn import decomposition, ensemble\n",
        "from keras import utils\n",
        "\n",
        "import pandas, xgboost, numpy, textblob, string\n",
        "from keras.preprocessing import text, sequence\n",
        "from keras import layers, models, optimizers"
      ],
      "execution_count": 0,
      "outputs": [
        {
          "output_type": "stream",
          "text": [
            "Using TensorFlow backend.\n"
          ],
          "name": "stderr"
        }
      ]
    },
    {
      "cell_type": "code",
      "metadata": {
        "id": "hO_OOMeI_Oph",
        "colab_type": "code",
        "colab": {}
      },
      "source": [
        "X_train, X_test, y_train, y_test = train_test_split(maj_class_data['COMPLAINT_TEXT'], maj_class_data['ISSUE_ID'], random_state=0, test_size=0.3)"
      ],
      "execution_count": 0,
      "outputs": []
    },
    {
      "cell_type": "code",
      "metadata": {
        "id": "Dj_EMwvP95kF",
        "colab_type": "code",
        "outputId": "fa651a4b-24ad-4868-9c30-b4719d3f4f6c",
        "colab": {
          "base_uri": "https://localhost:8080/",
          "height": 71
        }
      },
      "source": [
        "# create a tokenizer \n",
        "token = text.Tokenizer()\n",
        "token.fit_on_texts(X_train)\n",
        "word_index = token.word_index\n",
        "\n",
        "# convert text to sequence of tokens and pad them to ensure equal length vectors \n",
        "train_seq_x = sequence.pad_sequences(token.texts_to_sequences(X_train), maxlen=70)\n",
        "valid_seq_x = sequence.pad_sequences(token.texts_to_sequences(X_test), maxlen=70)\n",
        "\n",
        "# create token-embedding mapping\n",
        "embedding_matrix = numpy.zeros((len(word_index) + 1, 300))\n",
        "for word, i in word_index.items():\n",
        "  if word in wv.vocab:\n",
        "    embedding_vector = wv.syn0norm[wv.vocab[word].index]\n",
        "  else:\n",
        "    embedding_vector = np.zeros(300,)\n",
        "  embedding_matrix[i] = embedding_vector"
      ],
      "execution_count": 0,
      "outputs": [
        {
          "output_type": "stream",
          "text": [
            "/usr/local/lib/python3.6/dist-packages/ipykernel_launcher.py:14: DeprecationWarning: Call to deprecated `syn0norm` (Attribute will be removed in 4.0.0, use self.wv.vectors_norm instead).\n",
            "  \n"
          ],
          "name": "stderr"
        }
      ]
    },
    {
      "cell_type": "code",
      "metadata": {
        "id": "V_hV-LDxGejy",
        "colab_type": "code",
        "colab": {}
      },
      "source": [
        "num_classes = np.max(y_train) + 1\n",
        "y_train = utils.to_categorical(y_train, num_classes)\n",
        "# y_test = utils.to_categorical(y_test, num_classes)"
      ],
      "execution_count": 0,
      "outputs": []
    },
    {
      "cell_type": "code",
      "metadata": {
        "id": "Q8vyhAfluuyc",
        "colab_type": "code",
        "colab": {}
      },
      "source": [
        "def train_model(classifier, feature_vector_train, label, feature_vector_valid):\n",
        "    # fit the training dataset on the classifier\n",
        "    classifier.fit(feature_vector_train, label)\n",
        "    \n",
        "    # predict the labels on validation dataset\n",
        "    predictions = classifier.predict(feature_vector_valid)\n",
        "    predictions = predictions.argmax(axis=-1)\n",
        "    return metrics.accuracy_score(predictions, y_test)"
      ],
      "execution_count": 0,
      "outputs": []
    },
    {
      "cell_type": "markdown",
      "metadata": {
        "id": "57EsgntV9HmR",
        "colab_type": "text"
      },
      "source": [
        "**CNN**"
      ]
    },
    {
      "cell_type": "code",
      "metadata": {
        "id": "ItwRculk9HDs",
        "colab_type": "code",
        "outputId": "35470e7e-f556-436b-b888-15204c9d07dd",
        "colab": {
          "base_uri": "https://localhost:8080/",
          "height": 68
        }
      },
      "source": [
        "def create_cnn():\n",
        "    input_layer = layers.Input((32, ))\n",
        "    embedding_layer = layers.Embedding(len(word_index) + 1, 300, weights=[embedding_matrix], trainable=False)(input_layer)\n",
        "    embedding_layer = layers.SpatialDropout1D(0.3)(embedding_layer)\n",
        "    conv_layer = layers.Convolution1D(100, 3, activation=\"relu\")(embedding_layer)\n",
        "    pooling_layer = layers.GlobalMaxPool1D()(conv_layer)\n",
        "    output_layer1 = layers.Dense(50, activation=\"relu\")(pooling_layer)\n",
        "    output_layer1 = layers.Dropout(0.25)(output_layer1)\n",
        "    output_layer2 = layers.Dense(num_classes, activation=\"sigmoid\")(output_layer1)\n",
        "    model = models.Model(inputs=input_layer, outputs=output_layer2)\n",
        "    model.compile(optimizer=optimizers.Adam(), loss='categorical_crossentropy',\n",
        "                  metrics=['accuracy'])\n",
        "    \n",
        "    return model\n",
        "\n",
        "classifier = create_cnn()\n",
        "accuracy = train_model(classifier, train_seq_x, y_train, valid_seq_x)\n",
        "print(\"CNN, Word Embeddings\",  accuracy)"
      ],
      "execution_count": 0,
      "outputs": [
        {
          "output_type": "stream",
          "text": [
            "Epoch 1/1\n",
            "268146/268146 [==============================] - 50s 187us/step - loss: 3.5974 - accuracy: 0.1698\n",
            "CNN, Word Embeddings 0.23361468847894187\n"
          ],
          "name": "stdout"
        }
      ]
    },
    {
      "cell_type": "markdown",
      "metadata": {
        "id": "RcKUofG5EqQ2",
        "colab_type": "text"
      },
      "source": [
        "**LSTM**"
      ]
    },
    {
      "cell_type": "code",
      "metadata": {
        "id": "QmYcqeZuIuRQ",
        "colab_type": "code",
        "outputId": "581f595f-5a5f-4584-f3b8-2ccda8d6f641",
        "colab": {
          "base_uri": "https://localhost:8080/",
          "height": 68
        }
      },
      "source": [
        "def create_rnn_lstm():\n",
        "    input_layer = layers.Input((32, ))\n",
        "    embedding_layer = layers.Embedding(len(word_index) + 1, 300, weights=[embedding_matrix], trainable=False)(input_layer)\n",
        "    embedding_layer = layers.SpatialDropout1D(0.3)(embedding_layer)\n",
        "    lstm_layer = layers.LSTM(100)(embedding_layer)\n",
        "    output_layer1 = layers.Dense(50, activation=\"relu\")(lstm_layer)\n",
        "    output_layer1 = layers.Dropout(0.25)(output_layer1)\n",
        "    output_layer2 = layers.Dense(num_classes, activation=\"sigmoid\")(output_layer1)\n",
        "    model = models.Model(inputs=input_layer, outputs=output_layer2)\n",
        "    model.compile(optimizer=optimizers.Adam(), loss='categorical_crossentropy',\n",
        "                  metrics=['accuracy'])\n",
        "    \n",
        "    return model\n",
        "\n",
        "classifier = create_rnn_lstm()\n",
        "accuracy = train_model(classifier, train_seq_x, y_train, valid_seq_x)\n",
        "print(\"RNN-LSTM, Word Embeddings\",  accuracy)"
      ],
      "execution_count": 0,
      "outputs": [
        {
          "output_type": "stream",
          "text": [
            "Epoch 1/1\n",
            "268146/268146 [==============================] - 1212s 5ms/step - loss: 3.9597 - accuracy: 0.1229\n",
            "RNN-LSTM, Word Embeddings 0.1995910198398886\n"
          ],
          "name": "stdout"
        }
      ]
    },
    {
      "cell_type": "markdown",
      "metadata": {
        "id": "AM6hDh4PEs3X",
        "colab_type": "text"
      },
      "source": [
        "**GRU**"
      ]
    },
    {
      "cell_type": "code",
      "metadata": {
        "id": "Nj0pNO0aLgif",
        "colab_type": "code",
        "outputId": "cc337c3c-8179-4a85-b6cb-5d35a06a3463",
        "colab": {
          "base_uri": "https://localhost:8080/",
          "height": 68
        }
      },
      "source": [
        "def create_rnn_gru():\n",
        "    input_layer = layers.Input((32, ))\n",
        "    embedding_layer = layers.Embedding(len(word_index) + 1, 300, weights=[embedding_matrix], trainable=False)(input_layer)\n",
        "    embedding_layer = layers.SpatialDropout1D(0.3)(embedding_layer)\n",
        "    lstm_layer = layers.GRU(100)(embedding_layer)\n",
        "    output_layer1 = layers.Dense(50, activation=\"relu\")(lstm_layer)\n",
        "    output_layer1 = layers.Dropout(0.25)(output_layer1)\n",
        "    output_layer2 = layers.Dense(num_classes, activation=\"sigmoid\")(output_layer1)\n",
        "    model = models.Model(inputs=input_layer, outputs=output_layer2)\n",
        "    model.compile(optimizer=optimizers.Adam(), loss='categorical_crossentropy',\n",
        "                  metrics=['accuracy'])\n",
        "    \n",
        "    return model\n",
        "\n",
        "classifier = create_rnn_gru()\n",
        "accuracy = train_model(classifier, train_seq_x, y_train, valid_seq_x)\n",
        "print(\"RNN-GRU, Word Embeddings\",  accuracy)"
      ],
      "execution_count": 0,
      "outputs": [
        {
          "output_type": "stream",
          "text": [
            "Epoch 1/1\n",
            "268146/268146 [==============================] - 1550s 6ms/step - loss: 3.7316 - accuracy: 0.1484\n",
            "RNN-GRU, Word Embeddings 0.22293769578837452\n"
          ],
          "name": "stdout"
        }
      ]
    },
    {
      "cell_type": "markdown",
      "metadata": {
        "id": "GKlE5hPKEw7f",
        "colab_type": "text"
      },
      "source": [
        "**Bidrectional RNN**"
      ]
    },
    {
      "cell_type": "code",
      "metadata": {
        "id": "kcrCz8heLtBg",
        "colab_type": "code",
        "outputId": "59beaa2b-bf91-441c-c7b0-731859a7e17e",
        "colab": {
          "base_uri": "https://localhost:8080/",
          "height": 68
        }
      },
      "source": [
        "def create_bidirectional_rnn():\n",
        "    input_layer = layers.Input((32, ))\n",
        "    embedding_layer = layers.Embedding(len(word_index) + 1, 300, weights=[embedding_matrix], trainable=False)(input_layer)\n",
        "    embedding_layer = layers.SpatialDropout1D(0.3)(embedding_layer)\n",
        "    lstm_layer = layers.Bidirectional(layers.GRU(100))(embedding_layer)\n",
        "    output_layer1 = layers.Dense(50, activation=\"relu\")(lstm_layer)\n",
        "    output_layer1 = layers.Dropout(0.25)(output_layer1)\n",
        "    output_layer2 = layers.Dense(num_classes, activation=\"sigmoid\")(output_layer1)\n",
        "    model = models.Model(inputs=input_layer, outputs=output_layer2)\n",
        "    model.compile(optimizer=optimizers.Adam(), loss='categorical_crossentropy',\n",
        "                  metrics=['accuracy'])\n",
        "    \n",
        "    return model\n",
        "\n",
        "classifier = create_bidirectional_rnn()\n",
        "accuracy = train_model(classifier, train_seq_x, y_train, valid_seq_x)\n",
        "print(\"RNN-Bidirectional, Word Embeddings\",  accuracy)"
      ],
      "execution_count": 0,
      "outputs": [
        {
          "output_type": "stream",
          "text": [
            "Epoch 1/1\n",
            "268146/268146 [==============================] - 2981s 11ms/step - loss: 3.7036 - accuracy: 0.1532\n",
            "RNN-Bidirectional, Word Embeddings 0.22588757396449705\n"
          ],
          "name": "stdout"
        }
      ]
    },
    {
      "cell_type": "markdown",
      "metadata": {
        "id": "_g2qCU3hE4Ro",
        "colab_type": "text"
      },
      "source": [
        "**Recurrent CNN**"
      ]
    },
    {
      "cell_type": "code",
      "metadata": {
        "id": "jAMmFmPjaHId",
        "colab_type": "code",
        "outputId": "21c8a102-177f-4f82-d30c-7a66a3089261",
        "colab": {
          "base_uri": "https://localhost:8080/",
          "height": 68
        }
      },
      "source": [
        "def create_rcnn():\n",
        "    input_layer = layers.Input((32, ))\n",
        "    embedding_layer = layers.Embedding(len(word_index) + 1, 300, weights=[embedding_matrix], trainable=False)(input_layer)\n",
        "    embedding_layer = layers.SpatialDropout1D(0.3)(embedding_layer)\n",
        "    rnn_layer = layers.Bidirectional(layers.GRU(50, return_sequences=True))(embedding_layer)\n",
        "    conv_layer = layers.Convolution1D(100, 3, activation=\"relu\")(embedding_layer)\n",
        "    pooling_layer = layers.GlobalMaxPool1D()(conv_layer)\n",
        "    output_layer1 = layers.Dense(50, activation=\"relu\")(pooling_layer)\n",
        "    output_layer1 = layers.Dropout(0.25)(output_layer1)\n",
        "    output_layer2 = layers.Dense(num_classes, activation=\"sigmoid\")(output_layer1)\n",
        "    model = models.Model(inputs=input_layer, outputs=output_layer2)\n",
        "    model.compile(optimizer=optimizers.Adam(), loss='categorical_crossentropy',\n",
        "                  metrics=['accuracy'])\n",
        "    \n",
        "    return model\n",
        "\n",
        "classifier = create_rcnn()\n",
        "accuracy = train_model(classifier, train_seq_x, y_train, valid_seq_x)\n",
        "print(\"CNN, Word Embeddings\",  accuracy)"
      ],
      "execution_count": 0,
      "outputs": [
        {
          "output_type": "stream",
          "text": [
            "Epoch 1/1\n",
            "268146/268146 [==============================] - 46s 171us/step - loss: 3.5795 - accuracy: 0.1696\n",
            "CNN, Word Embeddings 0.23406717716672468\n"
          ],
          "name": "stdout"
        }
      ]
    },
    {
      "cell_type": "markdown",
      "metadata": {
        "id": "QfNmqkk_sk6L",
        "colab_type": "text"
      },
      "source": [
        "**BERT**"
      ]
    },
    {
      "cell_type": "code",
      "metadata": {
        "id": "vy8RMkeEch7G",
        "colab_type": "code",
        "colab": {}
      },
      "source": [
        "!pip install tensorflow-gpu\n",
        "!pip install --upgrade grpcio >> /dev/null\n",
        "!pip install tqdm  >> /dev/null\n",
        "!pip install bert-for-tf2 >> /dev/null\n",
        "!pip install sentencepiece >> /dev/null\n",
        "!wget https://storage.googleapis.com/bert_models/2018_10_18/uncased_L-12_H-768_A-12.zip\n",
        "!unzip uncased_L-12_H-768_A-12.zip"
      ],
      "execution_count": 0,
      "outputs": []
    },
    {
      "cell_type": "code",
      "metadata": {
        "id": "UNhvrThabqia",
        "colab_type": "code",
        "outputId": "dbdef0c1-0090-4c16-c664-b10b4d12df6c",
        "colab": {
          "base_uri": "https://localhost:8080/",
          "height": 71
        }
      },
      "source": [
        "import os\n",
        "import math\n",
        "import datetime\n",
        "\n",
        "from tqdm import tqdm\n",
        "\n",
        "import pandas as pd\n",
        "import numpy as np\n",
        "\n",
        "import tensorflow as tf\n",
        "from tensorflow import keras\n",
        "\n",
        "import bert\n",
        "from bert import BertModelLayer\n",
        "from bert.loader import StockBertConfig, map_stock_config_to_params, load_stock_weights\n",
        "from bert.tokenization.bert_tokenization import FullTokenizer\n",
        "\n",
        "import seaborn as sns\n",
        "from pylab import rcParams\n",
        "import matplotlib.pyplot as plt\n",
        "from matplotlib.ticker import MaxNLocator\n",
        "from matplotlib import rc\n",
        "\n",
        "from sklearn.metrics import confusion_matrix, classification_report\n",
        "\n",
        "%matplotlib inline\n",
        "%config InlineBackend.figure_format='retina'\n",
        "\n",
        "sns.set(style='whitegrid', palette='muted', font_scale=1.2)\n",
        "\n",
        "HAPPY_COLORS_PALETTE = [\"#01BEFE\", \"#FFDD00\", \"#FF7D00\", \"#FF006D\", \"#ADFF02\", \"#8F00FF\"]\n",
        "\n",
        "sns.set_palette(sns.color_palette(HAPPY_COLORS_PALETTE))\n",
        "\n",
        "rcParams['figure.figsize'] = 12, 8\n",
        "\n",
        "RANDOM_SEED = 42\n",
        "\n",
        "np.random.seed(RANDOM_SEED)\n",
        "tf.random.set_seed(RANDOM_SEED)"
      ],
      "execution_count": 0,
      "outputs": [
        {
          "output_type": "stream",
          "text": [
            "/usr/local/lib/python3.6/dist-packages/statsmodels/tools/_testing.py:19: FutureWarning: pandas.util.testing is deprecated. Use the functions in the public API at pandas.testing instead.\n",
            "  import pandas.util.testing as tm\n"
          ],
          "name": "stderr"
        }
      ]
    },
    {
      "cell_type": "code",
      "metadata": {
        "id": "QFNFiCOvcnmQ",
        "colab_type": "code",
        "colab": {}
      },
      "source": [
        "os.makedirs(\"model\", exist_ok=True)"
      ],
      "execution_count": 0,
      "outputs": []
    },
    {
      "cell_type": "code",
      "metadata": {
        "id": "CreS_0vAc6eF",
        "colab_type": "code",
        "colab": {}
      },
      "source": [
        "!mv uncased_L-12_H-768_A-12/ model"
      ],
      "execution_count": 0,
      "outputs": []
    },
    {
      "cell_type": "code",
      "metadata": {
        "id": "UMGsPS6vc76k",
        "colab_type": "code",
        "colab": {}
      },
      "source": [
        "bert_model_name=\"uncased_L-12_H-768_A-12\"\n",
        "\n",
        "bert_ckpt_dir = os.path.join(\"model/\", bert_model_name)\n",
        "bert_ckpt_file = os.path.join(bert_ckpt_dir, \"bert_model.ckpt\")\n",
        "bert_config_file = os.path.join(bert_ckpt_dir, \"bert_config.json\")"
      ],
      "execution_count": 0,
      "outputs": []
    },
    {
      "cell_type": "code",
      "metadata": {
        "id": "R-Jau-SNbvnH",
        "colab_type": "code",
        "colab": {}
      },
      "source": [
        "class IntentDetectionData:\n",
        "  DATA_COLUMN = \"COMPLAINT_TEXT\"\n",
        "  LABEL_COLUMN = \"ISSUE_ID\"\n",
        "\n",
        "  def __init__(self, train, test, tokenizer: FullTokenizer, classes, max_seq_len=192):\n",
        "    self.tokenizer = tokenizer\n",
        "    self.max_seq_len = 0\n",
        "    self.classes = classes\n",
        "    \n",
        "    train, test = map(lambda df: df.reindex(df[IntentDetectionData.DATA_COLUMN].str.len().sort_values().index), [train, test])\n",
        "    \n",
        "    ((self.train_x, self.train_y), (self.test_x, self.test_y)) = map(self._prepare, [train, test])\n",
        "\n",
        "    print(\"max seq_len\", self.max_seq_len)\n",
        "    self.max_seq_len = min(self.max_seq_len, max_seq_len)\n",
        "    self.train_x, self.test_x = map(self._pad, [self.train_x, self.test_x])\n",
        "\n",
        "  def _prepare(self, df):\n",
        "    x, y = [], []\n",
        "    \n",
        "    for _, row in tqdm(df.iterrows()):\n",
        "      text, label = row[IntentDetectionData.DATA_COLUMN], row[IntentDetectionData.LABEL_COLUMN]\n",
        "      tokens = self.tokenizer.tokenize(text)\n",
        "      tokens = [\"[CLS]\"] + tokens + [\"[SEP]\"]\n",
        "      token_ids = self.tokenizer.convert_tokens_to_ids(tokens)\n",
        "      self.max_seq_len = max(self.max_seq_len, len(token_ids))\n",
        "      x.append(token_ids)\n",
        "      y.append(self.classes.index(label))\n",
        "\n",
        "    return np.array(x), np.array(y)\n",
        "\n",
        "  def _pad(self, ids):\n",
        "    x = []\n",
        "    for input_ids in ids:\n",
        "      input_ids = input_ids[:min(len(input_ids), self.max_seq_len - 2)]\n",
        "      input_ids = input_ids + [0] * (self.max_seq_len - len(input_ids))\n",
        "      x.append(np.array(input_ids))\n",
        "    return np.array(x)"
      ],
      "execution_count": 0,
      "outputs": []
    },
    {
      "cell_type": "code",
      "metadata": {
        "id": "WR7lxNhldOG_",
        "colab_type": "code",
        "colab": {}
      },
      "source": [
        "tokenizer = FullTokenizer(vocab_file=os.path.join(bert_ckpt_dir, \"vocab.txt\"))\n"
      ],
      "execution_count": 0,
      "outputs": []
    },
    {
      "cell_type": "code",
      "metadata": {
        "id": "zMBB2fYcdQom",
        "colab_type": "code",
        "outputId": "dd56c268-b180-410d-c087-7afb9cf1448c",
        "colab": {
          "base_uri": "https://localhost:8080/",
          "height": 34
        }
      },
      "source": [
        "tokenizer.tokenize(\"I can't wait to visit Bulgaria again!\")\n"
      ],
      "execution_count": 0,
      "outputs": [
        {
          "output_type": "execute_result",
          "data": {
            "text/plain": [
              "['i', 'can', \"'\", 't', 'wait', 'to', 'visit', 'bulgaria', 'again', '!']"
            ]
          },
          "metadata": {
            "tags": []
          },
          "execution_count": 15
        }
      ]
    },
    {
      "cell_type": "code",
      "metadata": {
        "id": "E4dGNi3MdSPA",
        "colab_type": "code",
        "colab": {}
      },
      "source": [
        "\n",
        "def create_model(max_seq_len, bert_ckpt_file):\n",
        "\n",
        "  with tf.io.gfile.GFile(bert_config_file, \"r\") as reader:\n",
        "      bc = StockBertConfig.from_json_string(reader.read())\n",
        "      bert_params = map_stock_config_to_params(bc)\n",
        "      bert_params.adapter_size = None\n",
        "      bert = BertModelLayer.from_params(bert_params, name=\"bert\")\n",
        "        \n",
        "  input_ids = keras.layers.Input(shape=(max_seq_len, ), dtype='int32', name=\"input_ids\")\n",
        "  bert_output = bert(input_ids)\n",
        "\n",
        "  print(\"bert shape\", bert_output.shape)\n",
        "\n",
        "  cls_out = keras.layers.Lambda(lambda seq: seq[:, 0, :])(bert_output)\n",
        "  cls_out = keras.layers.Dropout(0.5)(cls_out)\n",
        "  logits = keras.layers.Dense(units=768, activation=\"tanh\")(cls_out)\n",
        "  logits = keras.layers.Dropout(0.5)(logits)\n",
        "  logits = keras.layers.Dense(units=len(classes), activation=\"softmax\")(logits)\n",
        "\n",
        "  model = keras.Model(inputs=input_ids, outputs=logits)\n",
        "  model.build(input_shape=(None, max_seq_len))\n",
        "\n",
        "  load_stock_weights(bert, bert_ckpt_file)\n",
        "        \n",
        "  return model"
      ],
      "execution_count": 0,
      "outputs": []
    },
    {
      "cell_type": "code",
      "metadata": {
        "id": "5LW8a457df91",
        "colab_type": "code",
        "colab": {}
      },
      "source": [
        "train, test = train_test_split(maj_class_data, random_state=0, test_size=0.3)"
      ],
      "execution_count": 0,
      "outputs": []
    },
    {
      "cell_type": "code",
      "metadata": {
        "id": "lKgYj4H8dWNm",
        "colab_type": "code",
        "outputId": "75ebd138-760d-4ab1-cdf3-1d5f648b15a6",
        "colab": {
          "base_uri": "https://localhost:8080/",
          "height": 68
        }
      },
      "source": [
        "\n",
        "classes = train.ISSUE_ID.unique().tolist()\n",
        "\n",
        "data = IntentDetectionData(train, test, tokenizer, classes, max_seq_len=128)"
      ],
      "execution_count": 0,
      "outputs": [
        {
          "output_type": "stream",
          "text": [
            "268146it [09:10, 487.10it/s]\n",
            "114920it [03:53, 492.54it/s]\n"
          ],
          "name": "stderr"
        },
        {
          "output_type": "stream",
          "text": [
            "max seq_len 5036\n"
          ],
          "name": "stdout"
        }
      ]
    },
    {
      "cell_type": "code",
      "metadata": {
        "id": "6OX_m4hvdZQk",
        "colab_type": "code",
        "outputId": "0cf5d3df-14ee-4e93-949c-b7ef04b421d6",
        "colab": {
          "base_uri": "https://localhost:8080/",
          "height": 258
        }
      },
      "source": [
        "model = create_model(data.max_seq_len, bert_ckpt_file)"
      ],
      "execution_count": 0,
      "outputs": [
        {
          "output_type": "stream",
          "text": [
            "bert shape (None, 128, 768)\n",
            "Done loading 196 BERT weights from: model/uncased_L-12_H-768_A-12/bert_model.ckpt into <bert.model.BertModelLayer object at 0x7fa9f75dbd68> (prefix:bert). Count of weights not found in the checkpoint was: [0]. Count of weights with mismatched shape: [0]\n",
            "Unused weights from checkpoint: \n",
            "\tbert/embeddings/token_type_embeddings\n",
            "\tbert/pooler/dense/bias\n",
            "\tbert/pooler/dense/kernel\n",
            "\tcls/predictions/output_bias\n",
            "\tcls/predictions/transform/LayerNorm/beta\n",
            "\tcls/predictions/transform/LayerNorm/gamma\n",
            "\tcls/predictions/transform/dense/bias\n",
            "\tcls/predictions/transform/dense/kernel\n",
            "\tcls/seq_relationship/output_bias\n",
            "\tcls/seq_relationship/output_weights\n"
          ],
          "name": "stdout"
        }
      ]
    },
    {
      "cell_type": "code",
      "metadata": {
        "id": "yMKVlcvterJB",
        "colab_type": "code",
        "outputId": "a729459c-7cea-4f2c-a092-e6864364aa99",
        "colab": {
          "base_uri": "https://localhost:8080/",
          "height": 391
        }
      },
      "source": [
        "model.summary()"
      ],
      "execution_count": 0,
      "outputs": [
        {
          "output_type": "stream",
          "text": [
            "Model: \"model\"\n",
            "_________________________________________________________________\n",
            "Layer (type)                 Output Shape              Param #   \n",
            "=================================================================\n",
            "input_ids (InputLayer)       [(None, 128)]             0         \n",
            "_________________________________________________________________\n",
            "bert (BertModelLayer)        (None, 128, 768)          108890112 \n",
            "_________________________________________________________________\n",
            "lambda (Lambda)              (None, 768)               0         \n",
            "_________________________________________________________________\n",
            "dropout (Dropout)            (None, 768)               0         \n",
            "_________________________________________________________________\n",
            "dense (Dense)                (None, 768)               590592    \n",
            "_________________________________________________________________\n",
            "dropout_1 (Dropout)          (None, 768)               0         \n",
            "_________________________________________________________________\n",
            "dense_1 (Dense)              (None, 245)               188405    \n",
            "=================================================================\n",
            "Total params: 109,669,109\n",
            "Trainable params: 109,669,109\n",
            "Non-trainable params: 0\n",
            "_________________________________________________________________\n"
          ],
          "name": "stdout"
        }
      ]
    },
    {
      "cell_type": "code",
      "metadata": {
        "id": "-upiN3v9es_I",
        "colab_type": "code",
        "colab": {}
      },
      "source": [
        "model.compile(\n",
        "  optimizer=keras.optimizers.Adam(1e-5),\n",
        "  loss=keras.losses.SparseCategoricalCrossentropy(from_logits=True),\n",
        "  metrics=[keras.metrics.SparseCategoricalAccuracy(name=\"acc\")]\n",
        ")"
      ],
      "execution_count": 0,
      "outputs": []
    },
    {
      "cell_type": "code",
      "metadata": {
        "id": "89b8QuL3eujU",
        "colab_type": "code",
        "outputId": "5cdef4fa-476a-4c70-f6f7-7358ca078bfb",
        "colab": {
          "base_uri": "https://localhost:8080/",
          "height": 187
        }
      },
      "source": [
        "history = model.fit(\n",
        "  x=data.train_x, \n",
        "  y=data.train_y,\n",
        "  validation_split=0.1,\n",
        "  batch_size=16,\n",
        "  shuffle=True,\n",
        "  epochs=5\n",
        ")"
      ],
      "execution_count": 0,
      "outputs": [
        {
          "output_type": "stream",
          "text": [
            "Epoch 1/5\n",
            "15084/15084 [==============================] - 5673s 376ms/step - loss: 5.4616 - acc: 0.0464 - val_loss: 5.4842 - val_acc: 0.0240\n",
            "Epoch 2/5\n",
            "15084/15084 [==============================] - 5668s 376ms/step - loss: 5.4614 - acc: 0.0464 - val_loss: 5.4842 - val_acc: 0.0240\n",
            "Epoch 3/5\n",
            "15084/15084 [==============================] - 5673s 376ms/step - loss: 5.4614 - acc: 0.0464 - val_loss: 5.4842 - val_acc: 0.0240\n",
            "Epoch 4/5\n",
            "15084/15084 [==============================] - 5681s 377ms/step - loss: 5.4614 - acc: 0.0464 - val_loss: 5.4842 - val_acc: 0.0240\n",
            "Epoch 5/5\n",
            "15084/15084 [==============================] - 5667s 376ms/step - loss: 5.4614 - acc: 0.0464 - val_loss: 5.4842 - val_acc: 0.0240\n"
          ],
          "name": "stdout"
        }
      ]
    },
    {
      "cell_type": "code",
      "metadata": {
        "id": "Eqce4E52e5NP",
        "colab_type": "code",
        "outputId": "aa23b77f-39cc-4fe9-b0ab-2397f19ea798",
        "colab": {
          "base_uri": "https://localhost:8080/",
          "height": 306
        }
      },
      "source": [
        "ax = plt.figure().gca()\n",
        "ax.xaxis.set_major_locator(MaxNLocator(integer=True))\n",
        "\n",
        "ax.plot(history.history['loss'])\n",
        "ax.plot(history.history['val_loss'])\n",
        "plt.ylabel('Loss')\n",
        "plt.xlabel('Epoch')\n",
        "plt.legend(['train', 'test'])\n",
        "plt.title('Loss over training epochs')\n",
        "plt.show();"
      ],
      "execution_count": 0,
      "outputs": [
        {
          "output_type": "display_data",
          "data": {
            "image/png": "[encoded data removed]",
            "text/plain": [
              "<Figure size 432x288 with 1 Axes>"
            ]
          },
          "metadata": {
            "tags": [],
            "image/png": {
              "width": 414,
              "height": 289
            },
            "needs_background": "light"
          }
        }
      ]
    },
    {
      "cell_type": "code",
      "metadata": {
        "id": "N4Wfrgece6rG",
        "colab_type": "code",
        "outputId": "6488f437-f373-4f7e-ae6c-2fd6a0487723",
        "colab": {
          "base_uri": "https://localhost:8080/",
          "height": 306
        }
      },
      "source": [
        "ax = plt.figure().gca()\n",
        "ax.xaxis.set_major_locator(MaxNLocator(integer=True))\n",
        "\n",
        "ax.plot(history.history['acc'])\n",
        "ax.plot(history.history['val_acc'])\n",
        "plt.ylabel('Accuracy')\n",
        "plt.xlabel('Epoch')\n",
        "plt.legend(['train', 'test'])\n",
        "plt.title('Accuracy over training epochs')\n",
        "plt.show();"
      ],
      "execution_count": 0,
      "outputs": [
        {
          "output_type": "display_data",
          "data": {
            "image/png": "[encoded data removed]",
            "text/plain": [
              "<Figure size 432x288 with 1 Axes>"
            ]
          },
          "metadata": {
            "tags": [],
            "image/png": {
              "width": 414,
              "height": 289
            },
            "needs_background": "light"
          }
        }
      ]
    },
    {
      "cell_type": "code",
      "metadata": {
        "id": "7huu1Qj8e8bD",
        "colab_type": "code",
        "outputId": "ce8d3013-8706-4d04-aece-84a3a7fb30fc",
        "colab": {
          "base_uri": "https://localhost:8080/",
          "height": 85
        }
      },
      "source": [
        "_, train_acc = model.evaluate(data.train_x, data.train_y)\n",
        "_, test_acc = model.evaluate(data.test_x, data.test_y)\n",
        "\n",
        "print(\"train acc\", train_acc)\n",
        "print(\"test acc\", test_acc)"
      ],
      "execution_count": 0,
      "outputs": [
        {
          "output_type": "stream",
          "text": [
            "8380/8380 [==============================] - 1509s 180ms/step - loss: 5.4637 - acc: 0.0442\n",
            "3592/3592 [==============================] - 647s 180ms/step - loss: 5.4645 - acc: 0.0435\n",
            "train acc 0.04420353099703789\n",
            "test acc 0.04350852593779564\n"
          ],
          "name": "stdout"
        }
      ]
    }
  ]
}